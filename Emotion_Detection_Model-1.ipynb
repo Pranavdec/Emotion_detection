{
 "cells": [
  {
   "cell_type": "markdown",
   "id": "d487fd76",
   "metadata": {},
   "source": [
    "**Emotion Detection Notebook**"
   ]
  },
  {
   "cell_type": "markdown",
   "id": "1770e62a",
   "metadata": {},
   "source": [
    "This notebook contains the code for extracting data from a dataset, training and fitting it into a model of emotion detection, evaluating our results, and optimizing it for better results."
   ]
  },
  {
   "cell_type": "markdown",
   "id": "cc81ad9f",
   "metadata": {},
   "source": [
    "**Importing Required Libraries**"
   ]
  },
  {
   "cell_type": "code",
   "execution_count": null,
   "id": "9e25fae2",
   "metadata": {},
   "outputs": [],
   "source": [
    "import matplotlib.pyplot as plt\n",
    "from glob import glob\n",
    "import cv2\n",
    "import random\n",
    "import os\n",
    "%matplotlib inline\n",
    "\n",
    "from tensorflow.keras.preprocessing.image import ImageDataGenerator\n",
    "from tensorflow.keras.layers import Dense, Input, Dropout,Flatten, Conv2D\n",
    "from tensorflow.keras.layers import BatchNormalization, Activation, MaxPooling2D\n",
    "from tensorflow.keras.models import Model, Sequential\n",
    "from tensorflow.keras.optimizers import Adam\n",
    "from tensorflow.keras.callbacks import ModelCheckpoint, ReduceLROnPlateau\n",
    "from tensorflow.keras.utils import plot_model\n",
    "\n",
    "from IPython.display import SVG, Image\n",
    "import tensorflow as tf\n",
    "print(\"Tensorflow version:\", tf.__version__)"
   ]
  },
  {
   "cell_type": "markdown",
   "id": "f9b886b5",
   "metadata": {},
   "source": [
    "**Downloading and Exploring Dataset**"
   ]
  },
  {
   "cell_type": "code",
   "execution_count": null,
   "id": "6c393d48",
   "metadata": {},
   "outputs": [],
   "source": [
    "images = glob(\"train/**/**\")\n",
    "for i in range(9):\n",
    "    image = random.choice(images)\n",
    "    plt.figure(figsize=(15,15))\n",
    "    plt.subplot(331+i)\n",
    "    plt.imshow(cv2.imread(image));plt.axis('off')"
   ]
  },
  {
   "cell_type": "markdown",
   "id": "a5044d6e",
   "metadata": {},
   "source": [
    "**Preparing Data for Traning**"
   ]
  },
  {
   "cell_type": "code",
   "execution_count": 5,
   "id": "c28ec199",
   "metadata": {},
   "outputs": [
    {
     "name": "stdout",
     "output_type": "stream",
     "text": [
      "Found 28709 images belonging to 7 classes.\n",
      "Found 7181 images belonging to 7 classes.\n"
     ]
    }
   ],
   "source": [
    "img_size = 48\n",
    "batch_size = 64\n",
    "datagen_train = ImageDataGenerator(horizontal_flip=True)\n",
    "train_generator = datagen_train.flow_from_directory(\"train/\",\n",
    "                                                    target_size=(img_size, img_size), \n",
    "                                                    color_mode='grayscale', \n",
    "                                                    batch_size=batch_size, \n",
    "                                                    class_mode='categorical', \n",
    "                                                    shuffle=True)\n",
    "                                                    \n",
    "datagen_validation = ImageDataGenerator(horizontal_flip=True)\n",
    "\n",
    "validation_generator = datagen_validation.flow_from_directory(\"test/\",\n",
    "                                                        target_size=(img_size, img_size), \n",
    "                                                        color_mode='grayscale', \n",
    "                                                        batch_size=batch_size, \n",
    "                                                        class_mode='categorical', \n",
    "                                                        shuffle=True)"
   ]
  },
  {
   "cell_type": "markdown",
   "id": "871915e9",
   "metadata": {},
   "source": [
    "**Defining the  Model**"
   ]
  },
  {
   "cell_type": "code",
   "execution_count": 10,
   "id": "dbba3d60",
   "metadata": {},
   "outputs": [],
   "source": [
    "def Convolution(input_tensor, filters,kernel_size):\n",
    "    x = Conv2D(filters = filters, kernel_size=kernel_size, padding=\"same\")(input_tensor)\n",
    "    x = BatchNormalization()(x)\n",
    "    x = Activation('relu')(x)\n",
    "    x = MaxPooling2D(pool_size=(2,2))(x)\n",
    "    x = Dropout(0.25)(x)\n",
    "\n",
    "    return x"
   ]
  },
  {
   "cell_type": "code",
   "execution_count": 11,
   "id": "0a3d9d12",
   "metadata": {},
   "outputs": [],
   "source": [
    "def Dense_f(input_tensor, nodes):\n",
    "    x = Dense(nodes)(input_tensor)\n",
    "    x = BatchNormalization()(x)\n",
    "    x = Activation('relu')(x)\n",
    "    x = Dropout(0.25)(x)\n",
    "\n",
    "    return x"
   ]
  },
  {
   "cell_type": "code",
   "execution_count": 12,
   "id": "0a85d497",
   "metadata": {},
   "outputs": [],
   "source": [
    "def model_fer(input_shape):\n",
    "    inputs = Input(input_shape)\n",
    "    conv_1 = Convolution(inputs,64,(3,3))\n",
    "    conv_2 = Convolution(conv_1,128,(5,5))\n",
    "    conv_3 = Convolution(conv_2,512,(3,3))\n",
    "    conv_4 = Convolution(conv_3,512,(3,3))\n",
    "\n",
    "    flatten = Flatten()(conv_4)\n",
    "    \n",
    "    dense_1 = Dense_f(flatten,256)\n",
    "    dense_2 = Dense_f(dense_1,512)\n",
    "\n",
    "    output  = Dense(7, activation=\"softmax\")(dense_2)\n",
    "    model  =  Model(inputs=[inputs],outputs = [output])\n",
    "    \n",
    "    opt = Adam(lr=0.0005)\n",
    "    model.compile(loss=['categorical_crossentropy'] , optimizer = opt , metrics =[\"accuracy\"])\n",
    "\n",
    "    return model"
   ]
  },
  {
   "cell_type": "code",
   "execution_count": 13,
   "id": "5ad9cf06",
   "metadata": {},
   "outputs": [
    {
     "name": "stdout",
     "output_type": "stream",
     "text": [
      "Model: \"model\"\n",
      "_________________________________________________________________\n",
      " Layer (type)                Output Shape              Param #   \n",
      "=================================================================\n",
      " input_2 (InputLayer)        [(None, 48, 48, 1)]       0         \n",
      "                                                                 \n",
      " conv2d_1 (Conv2D)           (None, 48, 48, 64)        640       \n",
      "                                                                 \n",
      " batch_normalization_1 (Batc  (None, 48, 48, 64)       256       \n",
      " hNormalization)                                                 \n",
      "                                                                 \n",
      " activation_1 (Activation)   (None, 48, 48, 64)        0         \n",
      "                                                                 \n",
      " max_pooling2d (MaxPooling2D  (None, 24, 24, 64)       0         \n",
      " )                                                               \n",
      "                                                                 \n",
      " dropout (Dropout)           (None, 24, 24, 64)        0         \n",
      "                                                                 \n",
      " conv2d_2 (Conv2D)           (None, 24, 24, 128)       204928    \n",
      "                                                                 \n",
      " batch_normalization_2 (Batc  (None, 24, 24, 128)      512       \n",
      " hNormalization)                                                 \n",
      "                                                                 \n",
      " activation_2 (Activation)   (None, 24, 24, 128)       0         \n",
      "                                                                 \n",
      " max_pooling2d_1 (MaxPooling  (None, 12, 12, 128)      0         \n",
      " 2D)                                                             \n",
      "                                                                 \n",
      " dropout_1 (Dropout)         (None, 12, 12, 128)       0         \n",
      "                                                                 \n",
      " conv2d_3 (Conv2D)           (None, 12, 12, 512)       590336    \n",
      "                                                                 \n",
      " batch_normalization_3 (Batc  (None, 12, 12, 512)      2048      \n",
      " hNormalization)                                                 \n",
      "                                                                 \n",
      " activation_3 (Activation)   (None, 12, 12, 512)       0         \n",
      "                                                                 \n",
      " max_pooling2d_2 (MaxPooling  (None, 6, 6, 512)        0         \n",
      " 2D)                                                             \n",
      "                                                                 \n",
      " dropout_2 (Dropout)         (None, 6, 6, 512)         0         \n",
      "                                                                 \n",
      " conv2d_4 (Conv2D)           (None, 6, 6, 512)         2359808   \n",
      "                                                                 \n",
      " batch_normalization_4 (Batc  (None, 6, 6, 512)        2048      \n",
      " hNormalization)                                                 \n",
      "                                                                 \n",
      " activation_4 (Activation)   (None, 6, 6, 512)         0         \n",
      "                                                                 \n",
      " max_pooling2d_3 (MaxPooling  (None, 3, 3, 512)        0         \n",
      " 2D)                                                             \n",
      "                                                                 \n",
      " dropout_3 (Dropout)         (None, 3, 3, 512)         0         \n",
      "                                                                 \n",
      " flatten (Flatten)           (None, 4608)              0         \n",
      "                                                                 \n",
      " dense (Dense)               (None, 256)               1179904   \n",
      "                                                                 \n",
      " batch_normalization_5 (Batc  (None, 256)              1024      \n",
      " hNormalization)                                                 \n",
      "                                                                 \n",
      " activation_5 (Activation)   (None, 256)               0         \n",
      "                                                                 \n",
      " dropout_4 (Dropout)         (None, 256)               0         \n",
      "                                                                 \n",
      " dense_1 (Dense)             (None, 512)               131584    \n",
      "                                                                 \n",
      " batch_normalization_6 (Batc  (None, 512)              2048      \n",
      " hNormalization)                                                 \n",
      "                                                                 \n",
      " activation_6 (Activation)   (None, 512)               0         \n",
      "                                                                 \n",
      " dropout_5 (Dropout)         (None, 512)               0         \n",
      "                                                                 \n",
      " dense_2 (Dense)             (None, 7)                 3591      \n",
      "                                                                 \n",
      "=================================================================\n",
      "Total params: 4,478,727\n",
      "Trainable params: 4,474,759\n",
      "Non-trainable params: 3,968\n",
      "_________________________________________________________________\n"
     ]
    },
    {
     "name": "stderr",
     "output_type": "stream",
     "text": [
      "C:\\Users\\palle\\anaconda3\\envs\\null_class_assignment\\lib\\site-packages\\keras\\optimizer_v2\\adam.py:105: UserWarning: The `lr` argument is deprecated, use `learning_rate` instead.\n",
      "  super(Adam, self).__init__(name, **kwargs)\n"
     ]
    }
   ],
   "source": [
    "model = model_fer((48,48,1))\n",
    "model.summary()"
   ]
  },
  {
   "cell_type": "markdown",
   "id": "4cf6f0f4",
   "metadata": {},
   "source": [
    "**Initializing the Model**"
   ]
  },
  {
   "cell_type": "code",
   "execution_count": null,
   "id": "ed4662aa",
   "metadata": {},
   "outputs": [],
   "source": [
    "epochs = 15\n",
    "steps_per_epoch = train_generator.n//train_generator.batch_size\n",
    "validation_steps = validation_generator.n//validation_generator.batch_size\n",
    "\n",
    "checkpoint = ModelCheckpoint (\"model_weights.h5\", monitor='val_accuracy',\n",
    "save_weights_only=True, mode='max', verbose=1)\n",
    "reduce_lr = ReduceLROnPlateau (monitor='val_loss', factor=0.1, patience=2, min_lr=0.00001)\n",
    "callbacks = [checkpoint,reduce_lr]\n"
   ]
  },
  {
   "cell_type": "markdown",
   "id": "55af3b5b",
   "metadata": {},
   "source": [
    "**Traning the Model**"
   ]
  },
  {
   "cell_type": "markdown",
   "id": "19687789",
   "metadata": {},
   "source": [
    "**The next cell takes time to complete**"
   ]
  },
  {
   "cell_type": "code",
   "execution_count": null,
   "id": "f3e3ba2f",
   "metadata": {},
   "outputs": [],
   "source": [
    "history = model.fit(\n",
    "    x =train_generator,\n",
    "    steps_per_epoch = steps_per_epoch,\n",
    "    epochs = epochs,\n",
    "    validation_data = validation_generator,\n",
    "    validation_steps = validation_steps,\n",
    "    callbacks = callbacks\n",
    ")"
   ]
  },
  {
   "cell_type": "markdown",
   "id": "8ff1203c",
   "metadata": {},
   "source": [
    "**Model Evaluation**"
   ]
  },
  {
   "cell_type": "code",
   "execution_count": null,
   "id": "5f788a1e",
   "metadata": {},
   "outputs": [],
   "source": [
    "model.evaluate(validation_generator)"
   ]
  },
  {
   "cell_type": "markdown",
   "id": "2b0c90b8",
   "metadata": {},
   "source": [
    "**Plotting Loss**"
   ]
  },
  {
   "cell_type": "code",
   "execution_count": null,
   "id": "930a0b9c",
   "metadata": {},
   "outputs": [],
   "source": [
    "plt.plot(history.history['loss'])\n",
    "plt.plot(history.history['val_loss'])\n",
    "plt.title('Model Loss')\n",
    "plt.xlabel=('Epoch')\n",
    "plt.ylabel=('Loss')\n",
    "plt.legend(['Train','Validation'],loc='upper left')\n",
    "plt.subplots_adjust(top=1.0,bottom=0.0,right=0.95,left=0,hspace=0.25,wspace=0.35)"
   ]
  },
  {
   "cell_type": "markdown",
   "id": "6880c818",
   "metadata": {},
   "source": [
    "**Plotting Accuracy**"
   ]
  },
  {
   "cell_type": "code",
   "execution_count": null,
   "id": "e1381c19",
   "metadata": {},
   "outputs": [],
   "source": [
    "plt.plot(history.history['accuracy'])\n",
    "plt.plot(history.history['val_accuracy'])\n",
    "plt.title('Model Accuracy')\n",
    "plt.xlabel=('Epoch')\n",
    "plt.ylabel=('Accuracy')\n",
    "plt.legend(['Train','Validation'],loc='upper left')\n",
    "plt.subplots_adjust(top=1.0,bottom=0.0,right=0.95,left=0,hspace=0.25,wspace=0.35)"
   ]
  },
  {
   "cell_type": "markdown",
   "id": "7e2a32b9",
   "metadata": {},
   "source": [
    "**Saving Model**"
   ]
  },
  {
   "cell_type": "markdown",
   "id": "5a047219",
   "metadata": {},
   "source": [
    "Model weights are saved while training using Model CheckPoints."
   ]
  },
  {
   "cell_type": "code",
   "execution_count": null,
   "id": "bffb009d",
   "metadata": {},
   "outputs": [],
   "source": [
    "model_json = model.to_json()\n",
    "with open(\"model.json\",\"w\") as json_file:\n",
    "    json_file.write(model_json)"
   ]
  }
 ],
 "metadata": {
  "kernelspec": {
   "display_name": "Python 3 (ipykernel)",
   "language": "python",
   "name": "python3"
  },
  "language_info": {
   "codemirror_mode": {
    "name": "ipython",
    "version": 3
   },
   "file_extension": ".py",
   "mimetype": "text/x-python",
   "name": "python",
   "nbconvert_exporter": "python",
   "pygments_lexer": "ipython3",
   "version": "3.9.12"
  }
 },
 "nbformat": 4,
 "nbformat_minor": 5
}
